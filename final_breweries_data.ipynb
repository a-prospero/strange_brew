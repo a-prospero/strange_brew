{
 "cells": [
  {
   "cell_type": "code",
   "execution_count": 1,
   "metadata": {},
   "outputs": [],
   "source": [
    "# Dependencies\n",
    "import pandas as pd\n",
    "import matplotlib.pyplot as plt\n",
    "import numpy as np\n",
    "#import scipy.stats as st\n",
    "import scipy.stats as sts\n",
    "%matplotlib inline\n",
    "from scipy.stats import linregress\n",
    "from sklearn import datasets"
   ]
  },
  {
   "cell_type": "code",
   "execution_count": 2,
   "metadata": {},
   "outputs": [],
   "source": [
    "# Store filepath in a variable\n",
    "breweries_data = \"Data/breweries_kaggle.csv\""
   ]
  },
  {
   "cell_type": "markdown",
   "metadata": {},
   "source": [
    "# Breweries clean up"
   ]
  },
  {
   "cell_type": "code",
   "execution_count": 3,
   "metadata": {},
   "outputs": [
    {
     "data": {
      "text/html": [
       "<div>\n",
       "<style scoped>\n",
       "    .dataframe tbody tr th:only-of-type {\n",
       "        vertical-align: middle;\n",
       "    }\n",
       "\n",
       "    .dataframe tbody tr th {\n",
       "        vertical-align: top;\n",
       "    }\n",
       "\n",
       "    .dataframe thead th {\n",
       "        text-align: right;\n",
       "    }\n",
       "</style>\n",
       "<table border=\"1\" class=\"dataframe\">\n",
       "  <thead>\n",
       "    <tr style=\"text-align: right;\">\n",
       "      <th></th>\n",
       "      <th>Unnamed: 0</th>\n",
       "      <th>name</th>\n",
       "      <th>city</th>\n",
       "      <th>state</th>\n",
       "    </tr>\n",
       "  </thead>\n",
       "  <tbody>\n",
       "    <tr>\n",
       "      <th>0</th>\n",
       "      <td>0</td>\n",
       "      <td>NorthGate Brewing</td>\n",
       "      <td>Minneapolis</td>\n",
       "      <td>Minestota</td>\n",
       "    </tr>\n",
       "    <tr>\n",
       "      <th>1</th>\n",
       "      <td>1</td>\n",
       "      <td>Against the Grain Brewery</td>\n",
       "      <td>Louisville</td>\n",
       "      <td>Kentucky</td>\n",
       "    </tr>\n",
       "    <tr>\n",
       "      <th>2</th>\n",
       "      <td>2</td>\n",
       "      <td>Jack's Abby Craft Lagers</td>\n",
       "      <td>Framingham</td>\n",
       "      <td>Massachusetts</td>\n",
       "    </tr>\n",
       "    <tr>\n",
       "      <th>3</th>\n",
       "      <td>3</td>\n",
       "      <td>Mike Hess Brewing Company</td>\n",
       "      <td>San Diego</td>\n",
       "      <td>California</td>\n",
       "    </tr>\n",
       "    <tr>\n",
       "      <th>4</th>\n",
       "      <td>4</td>\n",
       "      <td>Fort Point Beer Company</td>\n",
       "      <td>San Francisco</td>\n",
       "      <td>California</td>\n",
       "    </tr>\n",
       "    <tr>\n",
       "      <th>...</th>\n",
       "      <td>...</td>\n",
       "      <td>...</td>\n",
       "      <td>...</td>\n",
       "      <td>...</td>\n",
       "    </tr>\n",
       "    <tr>\n",
       "      <th>553</th>\n",
       "      <td>553</td>\n",
       "      <td>Covington Brewhouse</td>\n",
       "      <td>Covington</td>\n",
       "      <td>Louisiana</td>\n",
       "    </tr>\n",
       "    <tr>\n",
       "      <th>554</th>\n",
       "      <td>554</td>\n",
       "      <td>Dave's Brewfarm</td>\n",
       "      <td>Wilson</td>\n",
       "      <td>Wisconsin</td>\n",
       "    </tr>\n",
       "    <tr>\n",
       "      <th>555</th>\n",
       "      <td>555</td>\n",
       "      <td>Ukiah Brewing Company</td>\n",
       "      <td>Ukiah</td>\n",
       "      <td>California</td>\n",
       "    </tr>\n",
       "    <tr>\n",
       "      <th>556</th>\n",
       "      <td>556</td>\n",
       "      <td>Butternuts Beer and Ale</td>\n",
       "      <td>Garrattsville</td>\n",
       "      <td>New York</td>\n",
       "    </tr>\n",
       "    <tr>\n",
       "      <th>557</th>\n",
       "      <td>557</td>\n",
       "      <td>Sleeping Lady Brewing Company</td>\n",
       "      <td>Anchorage</td>\n",
       "      <td>Alaska</td>\n",
       "    </tr>\n",
       "  </tbody>\n",
       "</table>\n",
       "<p>558 rows × 4 columns</p>\n",
       "</div>"
      ],
      "text/plain": [
       "     Unnamed: 0                           name           city          state\n",
       "0             0             NorthGate Brewing     Minneapolis      Minestota\n",
       "1             1      Against the Grain Brewery     Louisville       Kentucky\n",
       "2             2       Jack's Abby Craft Lagers     Framingham  Massachusetts\n",
       "3             3      Mike Hess Brewing Company      San Diego     California\n",
       "4             4        Fort Point Beer Company  San Francisco     California\n",
       "..          ...                            ...            ...            ...\n",
       "553         553            Covington Brewhouse      Covington      Louisiana\n",
       "554         554                Dave's Brewfarm         Wilson      Wisconsin\n",
       "555         555          Ukiah Brewing Company          Ukiah     California\n",
       "556         556        Butternuts Beer and Ale  Garrattsville       New York\n",
       "557         557  Sleeping Lady Brewing Company      Anchorage         Alaska\n",
       "\n",
       "[558 rows x 4 columns]"
      ]
     },
     "execution_count": 3,
     "metadata": {},
     "output_type": "execute_result"
    }
   ],
   "source": [
    "# Read our breweries Data file with the pandas library\n",
    "breweries_data = pd.read_csv(breweries_data, encoding=\"ISO-8859-1\")\n",
    "breweries_data"
   ]
  },
  {
   "cell_type": "code",
   "execution_count": 4,
   "metadata": {},
   "outputs": [
    {
     "data": {
      "text/html": [
       "<div>\n",
       "<style scoped>\n",
       "    .dataframe tbody tr th:only-of-type {\n",
       "        vertical-align: middle;\n",
       "    }\n",
       "\n",
       "    .dataframe tbody tr th {\n",
       "        vertical-align: top;\n",
       "    }\n",
       "\n",
       "    .dataframe thead th {\n",
       "        text-align: right;\n",
       "    }\n",
       "</style>\n",
       "<table border=\"1\" class=\"dataframe\">\n",
       "  <thead>\n",
       "    <tr style=\"text-align: right;\">\n",
       "      <th></th>\n",
       "      <th>Name</th>\n",
       "      <th>City</th>\n",
       "      <th>State</th>\n",
       "    </tr>\n",
       "  </thead>\n",
       "  <tbody>\n",
       "    <tr>\n",
       "      <th>0</th>\n",
       "      <td>NorthGate Brewing</td>\n",
       "      <td>Minneapolis</td>\n",
       "      <td>Minestota</td>\n",
       "    </tr>\n",
       "    <tr>\n",
       "      <th>1</th>\n",
       "      <td>Against the Grain Brewery</td>\n",
       "      <td>Louisville</td>\n",
       "      <td>Kentucky</td>\n",
       "    </tr>\n",
       "    <tr>\n",
       "      <th>2</th>\n",
       "      <td>Jack's Abby Craft Lagers</td>\n",
       "      <td>Framingham</td>\n",
       "      <td>Massachusetts</td>\n",
       "    </tr>\n",
       "    <tr>\n",
       "      <th>3</th>\n",
       "      <td>Mike Hess Brewing Company</td>\n",
       "      <td>San Diego</td>\n",
       "      <td>California</td>\n",
       "    </tr>\n",
       "    <tr>\n",
       "      <th>4</th>\n",
       "      <td>Fort Point Beer Company</td>\n",
       "      <td>San Francisco</td>\n",
       "      <td>California</td>\n",
       "    </tr>\n",
       "    <tr>\n",
       "      <th>...</th>\n",
       "      <td>...</td>\n",
       "      <td>...</td>\n",
       "      <td>...</td>\n",
       "    </tr>\n",
       "    <tr>\n",
       "      <th>553</th>\n",
       "      <td>Covington Brewhouse</td>\n",
       "      <td>Covington</td>\n",
       "      <td>Louisiana</td>\n",
       "    </tr>\n",
       "    <tr>\n",
       "      <th>554</th>\n",
       "      <td>Dave's Brewfarm</td>\n",
       "      <td>Wilson</td>\n",
       "      <td>Wisconsin</td>\n",
       "    </tr>\n",
       "    <tr>\n",
       "      <th>555</th>\n",
       "      <td>Ukiah Brewing Company</td>\n",
       "      <td>Ukiah</td>\n",
       "      <td>California</td>\n",
       "    </tr>\n",
       "    <tr>\n",
       "      <th>556</th>\n",
       "      <td>Butternuts Beer and Ale</td>\n",
       "      <td>Garrattsville</td>\n",
       "      <td>New York</td>\n",
       "    </tr>\n",
       "    <tr>\n",
       "      <th>557</th>\n",
       "      <td>Sleeping Lady Brewing Company</td>\n",
       "      <td>Anchorage</td>\n",
       "      <td>Alaska</td>\n",
       "    </tr>\n",
       "  </tbody>\n",
       "</table>\n",
       "<p>558 rows × 3 columns</p>\n",
       "</div>"
      ],
      "text/plain": [
       "                              Name           City          State\n",
       "0               NorthGate Brewing     Minneapolis      Minestota\n",
       "1        Against the Grain Brewery     Louisville       Kentucky\n",
       "2         Jack's Abby Craft Lagers     Framingham  Massachusetts\n",
       "3        Mike Hess Brewing Company      San Diego     California\n",
       "4          Fort Point Beer Company  San Francisco     California\n",
       "..                             ...            ...            ...\n",
       "553            Covington Brewhouse      Covington      Louisiana\n",
       "554                Dave's Brewfarm         Wilson      Wisconsin\n",
       "555          Ukiah Brewing Company          Ukiah     California\n",
       "556        Butternuts Beer and Ale  Garrattsville       New York\n",
       "557  Sleeping Lady Brewing Company      Anchorage         Alaska\n",
       "\n",
       "[558 rows x 3 columns]"
      ]
     },
     "execution_count": 4,
     "metadata": {},
     "output_type": "execute_result"
    }
   ],
   "source": [
    "#Change the name of columns needed\n",
    "breweries_data = breweries_data[[\"name\", \"city\", \"state\"]]\n",
    "breweries_data = breweries_data.rename(columns={\"name\":\"Name\", \"city\": \"City\", \"state\":\"State\"})\n",
    "breweries_data"
   ]
  },
  {
   "cell_type": "markdown",
   "metadata": {},
   "source": [
    "# Number of breweries in each state."
   ]
  },
  {
   "cell_type": "code",
   "execution_count": 6,
   "metadata": {},
   "outputs": [
    {
     "data": {
      "text/plain": [
       "Colorado                47\n",
       "California              39\n",
       "Michigan                32\n",
       "Oregon                  29\n",
       "Texas                   28\n",
       "Pennsylvania            25\n",
       "Massachusetts           23\n",
       "Washington              23\n",
       "Indiana                 22\n",
       "Wisconsin               20\n",
       "North Carolina          19\n",
       "Illinois                18\n",
       "New York                16\n",
       "Virginia                16\n",
       "Ohio                    15\n",
       "Florida                 15\n",
       "Minnesota               11\n",
       "Arizona                 11\n",
       "Vermont                 10\n",
       "Montana                  9\n",
       "Maine                    9\n",
       "Missouri                 9\n",
       "Connecticut              8\n",
       "Maryland                 7\n",
       "Georgia                  7\n",
       "Alaska                   7\n",
       "Oklahoma                 6\n",
       "Louisiana                5\n",
       "Nebraska                 5\n",
       "Rhode Island             5\n",
       "Iowa                     5\n",
       "Idaho                    5\n",
       "New Mexico               4\n",
       "Wyoming                  4\n",
       "Utah                     4\n",
       "Hawaii                   4\n",
       "Kentucky                 4\n",
       "South Carolina           4\n",
       "New Hampshire            3\n",
       "Alabama                  3\n",
       "New Jersey               3\n",
       "Tennessee                3\n",
       "Kansas                   3\n",
       "Delaware                 2\n",
       "Nevada                   2\n",
       "Arkansas                 2\n",
       "Mississippi              2\n",
       "North Dakota             1\n",
       "Minestota                1\n",
       "West Virginia            1\n",
       "South Dakota             1\n",
       "District of Columbia     1\n",
       "Name: State, dtype: int64"
      ]
     },
     "execution_count": 6,
     "metadata": {},
     "output_type": "execute_result"
    }
   ],
   "source": [
    "# The value_counts method counts unique values in a column\n",
    "state_brew = breweries_data[\"State\"].value_counts()\n",
    "state_brew"
   ]
  },
  {
   "cell_type": "code",
   "execution_count": 21,
   "metadata": {},
   "outputs": [
    {
     "data": {
      "image/png": "[encoded data removed]",
      "text/plain": [
       "<Figure size 720x360 with 1 Axes>"
      ]
     },
     "metadata": {
      "needs_background": "light"
     },
     "output_type": "display_data"
    }
   ],
   "source": [
    "# Create a bar chart based off of the group series from before\n",
    "brew_count = state_brew.plot(kind='bar', title=\"Breweries per State\", color='tan', figsize=(10,5))\n",
    "\n",
    "# Set the xlabel and ylabel using class methods\n",
    "brew_count.set_xlabel(\"State\")\n",
    "brew_count.set_ylabel(\"Number of Breweries\")\n",
    "\n",
    "\n",
    "# plt.show()\n",
    "# plt.tight_layout()\n",
    "plt.ioff()"
   ]
  },
  {
   "cell_type": "markdown",
   "metadata": {},
   "source": [
    "# Top Cities for Breweries"
   ]
  },
  {
   "cell_type": "code",
   "execution_count": 31,
   "metadata": {},
   "outputs": [
    {
     "data": {
      "text/plain": [
       "City           State         \n",
       "Portland       Oregon            11\n",
       "Chicago        Illinois           9\n",
       "Seattle        Washington         9\n",
       "Boulder        Colorado           9\n",
       "Austin         Texas              8\n",
       "Denver         Colorado           8\n",
       "San Diego      California         8\n",
       "Portland       Maine              6\n",
       "Bend           Oregon             6\n",
       "San Francisco  California         5\n",
       "Indianapolis   Indiana            4\n",
       "Cincinnati     Ohio               4\n",
       "Anchorage      Alaska             4\n",
       "Brooklyn       New York           4\n",
       "Tampa          Florida            3\n",
       "Charlotte      North Carolina     3\n",
       "Jacksonville   Florida            3\n",
       "Traverse City  Michigan           3\n",
       "Grand Rapids   Michigan           3\n",
       "Stevens Point  Wisconsin          3\n",
       "Name: State, dtype: int64"
      ]
     },
     "execution_count": 31,
     "metadata": {},
     "output_type": "execute_result"
    }
   ],
   "source": [
    "city_brew = breweries_data.groupby('City')['State'].value_counts().sort_values(ascending=False)\n",
    "city_brew.head(20)"
   ]
  },
  {
   "cell_type": "code",
   "execution_count": 36,
   "metadata": {},
   "outputs": [
    {
     "data": {
      "text/plain": [
       "<AxesSubplot:title={'center':'Breweries per State'}, xlabel='City,State'>"
      ]
     },
     "execution_count": 36,
     "metadata": {},
     "output_type": "execute_result"
    },
    {
     "data": {
      "image/png": "[encoded data removed]",
      "text/plain": [
       "<Figure size 720x360 with 1 Axes>"
      ]
     },
     "metadata": {
      "needs_background": "light"
     },
     "output_type": "display_data"
    }
   ],
   "source": [
    "city_brew.head(20).plot(kind='bar', title=\"Breweries per State\", color='gold', figsize=(10,5))"
   ]
  }
 ],
 "metadata": {
  "kernelspec": {
   "display_name": "Python [conda env:pythondata] *",
   "language": "python",
   "name": "conda-env-pythondata-py"
  },
  "language_info": {
   "codemirror_mode": {
    "name": "ipython",
    "version": 3
   },
   "file_extension": ".py",
   "mimetype": "text/x-python",
   "name": "python",
   "nbconvert_exporter": "python",
   "pygments_lexer": "ipython3",
   "version": "3.7.1"
  }
 },
 "nbformat": 4,
 "nbformat_minor": 4
}
